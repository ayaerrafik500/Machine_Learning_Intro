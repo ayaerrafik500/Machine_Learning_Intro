{
 "cells": [
  {
   "cell_type": "markdown",
   "id": "f34e65e1",
   "metadata": {
    "papermill": {
     "duration": 0.006339,
     "end_time": "2023-06-28T19:46:02.576569",
     "exception": false,
     "start_time": "2023-06-28T19:46:02.570230",
     "status": "completed"
    },
    "tags": []
   },
   "source": [
    "**This notebook is an exercise in the [Introduction to Machine Learning](https://www.kaggle.com/learn/intro-to-machine-learning) course.  You can reference the tutorial at [this link](https://www.kaggle.com/dansbecker/model-validation).**\n",
    "\n",
    "---\n"
   ]
  },
  {
   "cell_type": "markdown",
   "id": "f0206068",
   "metadata": {
    "papermill": {
     "duration": 0.005253,
     "end_time": "2023-06-28T19:46:02.587674",
     "exception": false,
     "start_time": "2023-06-28T19:46:02.582421",
     "status": "completed"
    },
    "tags": []
   },
   "source": [
    "## Recap\n",
    "You've built a model. In this exercise you will test how good your model is.\n",
    "\n",
    "Run the cell below to set up your coding environment where the previous exercise left off."
   ]
  },
  {
   "cell_type": "code",
   "execution_count": 1,
   "id": "4efa6845",
   "metadata": {
    "execution": {
     "iopub.execute_input": "2023-06-28T19:46:02.602654Z",
     "iopub.status.busy": "2023-06-28T19:46:02.601757Z",
     "iopub.status.idle": "2023-06-28T19:46:04.467543Z",
     "shell.execute_reply": "2023-06-28T19:46:04.466631Z"
    },
    "papermill": {
     "duration": 1.877144,
     "end_time": "2023-06-28T19:46:04.470831",
     "exception": false,
     "start_time": "2023-06-28T19:46:02.593687",
     "status": "completed"
    },
    "tags": []
   },
   "outputs": [
    {
     "name": "stdout",
     "output_type": "stream",
     "text": [
      "First in-sample predictions: [208500. 181500. 223500. 140000. 250000.]\n",
      "Actual target values for those homes: [208500, 181500, 223500, 140000, 250000]\n",
      "Setup Complete\n"
     ]
    }
   ],
   "source": [
    "# Code you have previously used to load data\n",
    "import pandas as pd\n",
    "from sklearn.tree import DecisionTreeRegressor\n",
    "\n",
    "# Path of the file to read\n",
    "iowa_file_path = '../input/home-data-for-ml-course/train.csv'\n",
    "\n",
    "home_data = pd.read_csv(iowa_file_path)\n",
    "y = home_data.SalePrice\n",
    "feature_columns = ['LotArea', 'YearBuilt', '1stFlrSF', '2ndFlrSF', 'FullBath', 'BedroomAbvGr', 'TotRmsAbvGrd']\n",
    "X = home_data[feature_columns]\n",
    "\n",
    "# Specify Model\n",
    "iowa_model = DecisionTreeRegressor()\n",
    "# Fit Model\n",
    "iowa_model.fit(X, y)\n",
    "\n",
    "print(\"First in-sample predictions:\", iowa_model.predict(X.head()))\n",
    "print(\"Actual target values for those homes:\", y.head().tolist())\n",
    "\n",
    "# Set up code checking\n",
    "from learntools.core import binder\n",
    "binder.bind(globals())\n",
    "from learntools.machine_learning.ex4 import *\n",
    "print(\"Setup Complete\")"
   ]
  },
  {
   "cell_type": "markdown",
   "id": "9f72c847",
   "metadata": {
    "papermill": {
     "duration": 0.005822,
     "end_time": "2023-06-28T19:46:04.483000",
     "exception": false,
     "start_time": "2023-06-28T19:46:04.477178",
     "status": "completed"
    },
    "tags": []
   },
   "source": [
    "# Exercises\n",
    "\n",
    "## Step 1: Split Your Data\n",
    "Use the `train_test_split` function to split up your data.\n",
    "\n",
    "Give it the argument `random_state=1` so the `check` functions know what to expect when verifying your code.\n",
    "\n",
    "Recall, your features are loaded in the DataFrame **X** and your target is loaded in **y**.\n"
   ]
  },
  {
   "cell_type": "code",
   "execution_count": 2,
   "id": "a7a72257",
   "metadata": {
    "execution": {
     "iopub.execute_input": "2023-06-28T19:46:04.498045Z",
     "iopub.status.busy": "2023-06-28T19:46:04.497093Z",
     "iopub.status.idle": "2023-06-28T19:46:04.510438Z",
     "shell.execute_reply": "2023-06-28T19:46:04.509568Z"
    },
    "papermill": {
     "duration": 0.023409,
     "end_time": "2023-06-28T19:46:04.512761",
     "exception": false,
     "start_time": "2023-06-28T19:46:04.489352",
     "status": "completed"
    },
    "tags": []
   },
   "outputs": [
    {
     "data": {
      "application/javascript": [
       "parent.postMessage({\"jupyterEvent\": \"custom.exercise_interaction\", \"data\": {\"outcomeType\": 1, \"valueTowardsCompletion\": 0.25, \"interactionType\": 1, \"questionType\": 2, \"questionId\": \"1_SplitData\", \"learnToolsVersion\": \"0.3.4\", \"failureMessage\": \"\", \"exceptionClass\": \"\", \"trace\": \"\"}}, \"*\")"
      ],
      "text/plain": [
       "<IPython.core.display.Javascript object>"
      ]
     },
     "metadata": {},
     "output_type": "display_data"
    },
    {
     "data": {
      "text/markdown": [
       "<span style=\"color:#33cc33\">Correct</span>"
      ],
      "text/plain": [
       "Correct"
      ]
     },
     "metadata": {},
     "output_type": "display_data"
    }
   ],
   "source": [
    "# Import the train_test_split function and uncomment\n",
    "from sklearn.model_selection import train_test_split\n",
    "\n",
    "# fill in and uncomment\n",
    "train_X, val_X, train_y, val_y = train_test_split(X,y,random_state=1)\n",
    "\n",
    "# Check your answer\n",
    "step_1.check()"
   ]
  },
  {
   "cell_type": "code",
   "execution_count": 3,
   "id": "00b9095b",
   "metadata": {
    "execution": {
     "iopub.execute_input": "2023-06-28T19:46:04.528183Z",
     "iopub.status.busy": "2023-06-28T19:46:04.527780Z",
     "iopub.status.idle": "2023-06-28T19:46:04.531939Z",
     "shell.execute_reply": "2023-06-28T19:46:04.531096Z"
    },
    "papermill": {
     "duration": 0.014354,
     "end_time": "2023-06-28T19:46:04.533993",
     "exception": false,
     "start_time": "2023-06-28T19:46:04.519639",
     "status": "completed"
    },
    "tags": []
   },
   "outputs": [],
   "source": [
    "# The lines below will show you a hint or the solution.\n",
    "# step_1.hint() \n",
    "# step_1.solution()\n"
   ]
  },
  {
   "cell_type": "markdown",
   "id": "fc169e5b",
   "metadata": {
    "papermill": {
     "duration": 0.006197,
     "end_time": "2023-06-28T19:46:04.549045",
     "exception": false,
     "start_time": "2023-06-28T19:46:04.542848",
     "status": "completed"
    },
    "tags": []
   },
   "source": [
    "## Step 2: Specify and Fit the Model\n",
    "\n",
    "Create a `DecisionTreeRegressor` model and fit it to the relevant data.\n",
    "Set `random_state` to 1 again when creating the model."
   ]
  },
  {
   "cell_type": "code",
   "execution_count": 4,
   "id": "ab2e7293",
   "metadata": {
    "execution": {
     "iopub.execute_input": "2023-06-28T19:46:04.564389Z",
     "iopub.status.busy": "2023-06-28T19:46:04.563944Z",
     "iopub.status.idle": "2023-06-28T19:46:04.594303Z",
     "shell.execute_reply": "2023-06-28T19:46:04.592797Z"
    },
    "papermill": {
     "duration": 0.041151,
     "end_time": "2023-06-28T19:46:04.596865",
     "exception": false,
     "start_time": "2023-06-28T19:46:04.555714",
     "status": "completed"
    },
    "tags": []
   },
   "outputs": [
    {
     "name": "stdout",
     "output_type": "stream",
     "text": [
      "[186500. 184000. 130000.  92000. 164500. 220000. 335000. 144152. 215000.\n",
      " 262000.]\n",
      "[186500. 184000. 130000.  92000. 164500. 220000. 335000. 144152. 215000.\n",
      " 262000.]\n"
     ]
    },
    {
     "data": {
      "application/javascript": [
       "parent.postMessage({\"jupyterEvent\": \"custom.exercise_interaction\", \"data\": {\"outcomeType\": 1, \"valueTowardsCompletion\": 0.25, \"interactionType\": 1, \"questionType\": 2, \"questionId\": \"2_FitModelWithTrain\", \"learnToolsVersion\": \"0.3.4\", \"failureMessage\": \"\", \"exceptionClass\": \"\", \"trace\": \"\"}}, \"*\")"
      ],
      "text/plain": [
       "<IPython.core.display.Javascript object>"
      ]
     },
     "metadata": {},
     "output_type": "display_data"
    },
    {
     "data": {
      "text/markdown": [
       "<span style=\"color:#33cc33\">Correct</span>"
      ],
      "text/plain": [
       "Correct"
      ]
     },
     "metadata": {},
     "output_type": "display_data"
    }
   ],
   "source": [
    "# You imported DecisionTreeRegressor in your last exercise\n",
    "# and that code has been copied to the setup code above. So, no need to\n",
    "# import it again\n",
    "\n",
    "# Specify the model\n",
    "iowa_model = DecisionTreeRegressor(random_state=1)\n",
    "\n",
    "# Fit iowa_model with the training data.\n",
    "iowa_model.fit(train_X,train_y)\n",
    "\n",
    "# Check your answer\n",
    "step_2.check()"
   ]
  },
  {
   "cell_type": "code",
   "execution_count": 5,
   "id": "b8d41e57",
   "metadata": {
    "execution": {
     "iopub.execute_input": "2023-06-28T19:46:04.613546Z",
     "iopub.status.busy": "2023-06-28T19:46:04.613087Z",
     "iopub.status.idle": "2023-06-28T19:46:04.616954Z",
     "shell.execute_reply": "2023-06-28T19:46:04.616195Z"
    },
    "papermill": {
     "duration": 0.014861,
     "end_time": "2023-06-28T19:46:04.619019",
     "exception": false,
     "start_time": "2023-06-28T19:46:04.604158",
     "status": "completed"
    },
    "tags": []
   },
   "outputs": [],
   "source": [
    "# step_2.hint()\n",
    "# step_2.solution()"
   ]
  },
  {
   "cell_type": "markdown",
   "id": "a565463a",
   "metadata": {
    "papermill": {
     "duration": 0.006755,
     "end_time": "2023-06-28T19:46:04.632820",
     "exception": false,
     "start_time": "2023-06-28T19:46:04.626065",
     "status": "completed"
    },
    "tags": []
   },
   "source": [
    "## Step 3: Make Predictions with Validation data\n"
   ]
  },
  {
   "cell_type": "code",
   "execution_count": 6,
   "id": "b8204b95",
   "metadata": {
    "execution": {
     "iopub.execute_input": "2023-06-28T19:46:04.650087Z",
     "iopub.status.busy": "2023-06-28T19:46:04.649407Z",
     "iopub.status.idle": "2023-06-28T19:46:04.660472Z",
     "shell.execute_reply": "2023-06-28T19:46:04.659587Z"
    },
    "papermill": {
     "duration": 0.022693,
     "end_time": "2023-06-28T19:46:04.662730",
     "exception": false,
     "start_time": "2023-06-28T19:46:04.640037",
     "status": "completed"
    },
    "tags": []
   },
   "outputs": [
    {
     "data": {
      "application/javascript": [
       "parent.postMessage({\"jupyterEvent\": \"custom.exercise_interaction\", \"data\": {\"outcomeType\": 1, \"valueTowardsCompletion\": 0.25, \"interactionType\": 1, \"questionType\": 2, \"questionId\": \"3_ValPreds\", \"learnToolsVersion\": \"0.3.4\", \"failureMessage\": \"\", \"exceptionClass\": \"\", \"trace\": \"\"}}, \"*\")"
      ],
      "text/plain": [
       "<IPython.core.display.Javascript object>"
      ]
     },
     "metadata": {},
     "output_type": "display_data"
    },
    {
     "data": {
      "text/markdown": [
       "<span style=\"color:#33cc33\">Correct</span>"
      ],
      "text/plain": [
       "Correct"
      ]
     },
     "metadata": {},
     "output_type": "display_data"
    }
   ],
   "source": [
    "# Predict with all validation observations\n",
    "val_predictions = iowa_model.predict(val_X)\n",
    "\n",
    "# Check your answer\n",
    "step_3.check()"
   ]
  },
  {
   "cell_type": "code",
   "execution_count": 7,
   "id": "387dd435",
   "metadata": {
    "execution": {
     "iopub.execute_input": "2023-06-28T19:46:04.679985Z",
     "iopub.status.busy": "2023-06-28T19:46:04.679267Z",
     "iopub.status.idle": "2023-06-28T19:46:04.683153Z",
     "shell.execute_reply": "2023-06-28T19:46:04.682353Z"
    },
    "papermill": {
     "duration": 0.015623,
     "end_time": "2023-06-28T19:46:04.685612",
     "exception": false,
     "start_time": "2023-06-28T19:46:04.669989",
     "status": "completed"
    },
    "tags": []
   },
   "outputs": [],
   "source": [
    "# step_3.hint()\n",
    "# step_3.solution()"
   ]
  },
  {
   "cell_type": "markdown",
   "id": "5c4a3f28",
   "metadata": {
    "papermill": {
     "duration": 0.007358,
     "end_time": "2023-06-28T19:46:04.700676",
     "exception": false,
     "start_time": "2023-06-28T19:46:04.693318",
     "status": "completed"
    },
    "tags": []
   },
   "source": [
    "Inspect your predictions and actual values from validation data."
   ]
  },
  {
   "cell_type": "code",
   "execution_count": 8,
   "id": "6f5362cd",
   "metadata": {
    "execution": {
     "iopub.execute_input": "2023-06-28T19:46:04.718752Z",
     "iopub.status.busy": "2023-06-28T19:46:04.717885Z",
     "iopub.status.idle": "2023-06-28T19:46:04.724815Z",
     "shell.execute_reply": "2023-06-28T19:46:04.723690Z"
    },
    "papermill": {
     "duration": 0.01909,
     "end_time": "2023-06-28T19:46:04.727574",
     "exception": false,
     "start_time": "2023-06-28T19:46:04.708484",
     "status": "completed"
    },
    "tags": []
   },
   "outputs": [
    {
     "name": "stdout",
     "output_type": "stream",
     "text": [
      "[186500. 184000. 130000.  92000. 164500.]\n",
      "258     231500\n",
      "267     179500\n",
      "288     122000\n",
      "649      84500\n",
      "1233    142000\n",
      "Name: SalePrice, dtype: int64\n"
     ]
    }
   ],
   "source": [
    "# print the top few validation predictions\n",
    "print(val_predictions[:5])\n",
    "# print the top few actual prices from validation data\n",
    "print(val_y.head())"
   ]
  },
  {
   "cell_type": "markdown",
   "id": "8bf91980",
   "metadata": {
    "papermill": {
     "duration": 0.007887,
     "end_time": "2023-06-28T19:46:04.743811",
     "exception": false,
     "start_time": "2023-06-28T19:46:04.735924",
     "status": "completed"
    },
    "tags": []
   },
   "source": [
    "What do you notice that is different from what you saw with in-sample predictions (which are printed after the top code cell in this page).\n",
    "\n",
    "Do you remember why validation predictions differ from in-sample (or training) predictions? This is an important idea from the last lesson.\n",
    "\n",
    "## Step 4: Calculate the Mean Absolute Error in Validation Data\n"
   ]
  },
  {
   "cell_type": "code",
   "execution_count": 9,
   "id": "0a902840",
   "metadata": {
    "execution": {
     "iopub.execute_input": "2023-06-28T19:46:04.761654Z",
     "iopub.status.busy": "2023-06-28T19:46:04.761189Z",
     "iopub.status.idle": "2023-06-28T19:46:04.773681Z",
     "shell.execute_reply": "2023-06-28T19:46:04.772377Z"
    },
    "papermill": {
     "duration": 0.024298,
     "end_time": "2023-06-28T19:46:04.776258",
     "exception": false,
     "start_time": "2023-06-28T19:46:04.751960",
     "status": "completed"
    },
    "tags": []
   },
   "outputs": [
    {
     "data": {
      "application/javascript": [
       "parent.postMessage({\"jupyterEvent\": \"custom.exercise_interaction\", \"data\": {\"outcomeType\": 1, \"valueTowardsCompletion\": 0.25, \"interactionType\": 1, \"questionType\": 1, \"questionId\": \"4_MAE\", \"learnToolsVersion\": \"0.3.4\", \"failureMessage\": \"\", \"exceptionClass\": \"\", \"trace\": \"\"}}, \"*\")"
      ],
      "text/plain": [
       "<IPython.core.display.Javascript object>"
      ]
     },
     "metadata": {},
     "output_type": "display_data"
    },
    {
     "data": {
      "text/markdown": [
       "<span style=\"color:#33cc33\">Correct</span>"
      ],
      "text/plain": [
       "Correct"
      ]
     },
     "metadata": {},
     "output_type": "display_data"
    }
   ],
   "source": [
    "from sklearn.metrics import mean_absolute_error\n",
    "val_mae = mean_absolute_error(val_y, val_predictions)\n",
    "\n",
    "# uncomment following line to see the validation_mae\n",
    "#print(val_mae)\n",
    "\n",
    "# Check your answer\n",
    "step_4.check()"
   ]
  },
  {
   "cell_type": "code",
   "execution_count": 10,
   "id": "cc79c73d",
   "metadata": {
    "execution": {
     "iopub.execute_input": "2023-06-28T19:46:04.794313Z",
     "iopub.status.busy": "2023-06-28T19:46:04.793775Z",
     "iopub.status.idle": "2023-06-28T19:46:04.799549Z",
     "shell.execute_reply": "2023-06-28T19:46:04.798169Z"
    },
    "papermill": {
     "duration": 0.018153,
     "end_time": "2023-06-28T19:46:04.802145",
     "exception": false,
     "start_time": "2023-06-28T19:46:04.783992",
     "status": "completed"
    },
    "tags": []
   },
   "outputs": [],
   "source": [
    "# step_4.hint()\n",
    "# step_4.solution()"
   ]
  },
  {
   "cell_type": "markdown",
   "id": "2f88d5f1",
   "metadata": {
    "papermill": {
     "duration": 0.007245,
     "end_time": "2023-06-28T19:46:04.816917",
     "exception": false,
     "start_time": "2023-06-28T19:46:04.809672",
     "status": "completed"
    },
    "tags": []
   },
   "source": [
    "Is that MAE good?  There isn't a general rule for what values are good that applies across applications. But you'll see how to use (and improve) this number in the next step.\n",
    "\n",
    "# Keep Going\n",
    "\n",
    "You are ready for **[Underfitting and Overfitting](https://www.kaggle.com/dansbecker/underfitting-and-overfitting).**\n"
   ]
  },
  {
   "cell_type": "markdown",
   "id": "4a8a3ed3",
   "metadata": {
    "papermill": {
     "duration": 0.007108,
     "end_time": "2023-06-28T19:46:04.831453",
     "exception": false,
     "start_time": "2023-06-28T19:46:04.824345",
     "status": "completed"
    },
    "tags": []
   },
   "source": [
    "---\n",
    "\n",
    "\n",
    "\n",
    "\n",
    "*Have questions or comments? Visit the [course discussion forum](https://www.kaggle.com/learn/intro-to-machine-learning/discussion) to chat with other learners.*"
   ]
  }
 ],
 "metadata": {
  "kernelspec": {
   "display_name": "Python 3",
   "language": "python",
   "name": "python3"
  },
  "language_info": {
   "codemirror_mode": {
    "name": "ipython",
    "version": 3
   },
   "file_extension": ".py",
   "mimetype": "text/x-python",
   "name": "python",
   "nbconvert_exporter": "python",
   "pygments_lexer": "ipython3",
   "version": "3.10.10"
  },
  "papermill": {
   "default_parameters": {},
   "duration": 15.910309,
   "end_time": "2023-06-28T19:46:06.164401",
   "environment_variables": {},
   "exception": null,
   "input_path": "__notebook__.ipynb",
   "output_path": "__notebook__.ipynb",
   "parameters": {},
   "start_time": "2023-06-28T19:45:50.254092",
   "version": "2.4.0"
  }
 },
 "nbformat": 4,
 "nbformat_minor": 5
}
